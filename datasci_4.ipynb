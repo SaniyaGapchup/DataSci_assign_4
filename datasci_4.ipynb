{
 "cells": [
  {
   "cell_type": "code",
   "execution_count": 47,
   "id": "063bc79b-7741-4faa-9fe9-e7d2c942f333",
   "metadata": {},
   "outputs": [],
   "source": [
    "import sqlite3\n",
    "\n",
    "# connection to a SQLite database in memory\n",
    "conn = sqlite3.connect(':memory:')\n",
    "cursor = conn.cursor()\n",
    "\n",
    "# SALES table\n",
    "cursor.execute('''\n",
    "CREATE TABLE SALES (\n",
    "    Date TEXT,\n",
    "    Order_id INTEGER,\n",
    "    Item_id INTEGER,\n",
    "    Customer_id INTEGER,\n",
    "    Quantity INTEGER,\n",
    "    Revenue REAL\n",
    ")\n",
    "''')\n",
    "\n",
    "# ITEMS table\n",
    "cursor.execute('''\n",
    "CREATE TABLE ITEMS (\n",
    "    Item_id INTEGER,\n",
    "    Item_name TEXT,\n",
    "    Price REAL,\n",
    "    department TEXT\n",
    ")\n",
    "''')\n",
    "\n",
    "# CUSTOMERS table\n",
    "cursor.execute('''\n",
    "CREATE TABLE CUSTOMERS (\n",
    "    Customer_id INTEGER,\n",
    "    First_name TEXT,\n",
    "    Last_name TEXT,\n",
    "    Address TEXT\n",
    ")\n",
    "''')\n",
    "\n",
    "# data into SALES table\n",
    "cursor.executemany('''\n",
    "INSERT INTO SALES (Date, Order_id, Item_id, Customer_id, Quantity, Revenue) VALUES (?, ?, ?, ?, ?, ?)\n",
    "''', [\n",
    "    ('2023-03-18', 1, 1, 1, 2, 200),\n",
    "    ('2023-03-18', 2, 2, 2, 1, 100),\n",
    "    ('2023-01-15', 3, 3, 1, 3, 300)\n",
    "])\n",
    "\n",
    "# data into ITEMS table\n",
    "cursor.executemany('''\n",
    "INSERT INTO ITEMS (Item_id, Item_name, Price, department) VALUES (?, ?, ?, ?)\n",
    "''', [\n",
    "    (1, 'Item A', 100.0, 'Electronics'),\n",
    "    (2, 'Item B', 100.0, 'Books'),\n",
    "    (3, 'Item C', 100.0, 'Clothing')\n",
    "])\n",
    "\n",
    "# data into CUSTOMERS table\n",
    "cursor.executemany('''\n",
    "INSERT INTO CUSTOMERS (Customer_id, First_name, Last_name, Address) VALUES (?, ?, ?, ?)\n",
    "''', [\n",
    "    (1, 'John', 'Doe', '123 Elm St'),\n",
    "    (2, 'Jane', 'Smith', '456 Oak St')\n",
    "])\n",
    "\n",
    "\n",
    "conn.commit()"
   ]
  },
  {
   "cell_type": "markdown",
   "id": "78a4218a-ef9c-4dbe-a725-adbda11b4e18",
   "metadata": {},
   "source": [
    "**Executing queries**"
   ]
  },
  {
   "cell_type": "code",
   "execution_count": 49,
   "id": "8d69b0ee-beb9-4a66-b13a-7d04123f0978",
   "metadata": {},
   "outputs": [
    {
     "name": "stdout",
     "output_type": "stream",
     "text": [
      "Total Orders on March 18th: 2\n"
     ]
    }
   ],
   "source": [
    "# Total number of orders on 18th March 2023\n",
    "cursor.execute('''\n",
    "SELECT COUNT(DISTINCT Order_id) AS total_orders\n",
    "FROM SALES\n",
    "WHERE Date = '2023-03-18'\n",
    "''')\n",
    "total_orders = cursor.fetchone()[0]\n",
    "print(\"Total Orders on March 18th:\", total_orders)"
   ]
  },
  {
   "cell_type": "code",
   "execution_count": 51,
   "id": "4e621022-98c2-4ca5-a6cd-58ff820b40f8",
   "metadata": {},
   "outputs": [
    {
     "name": "stdout",
     "output_type": "stream",
     "text": [
      "John Doe Orders on March 18th: 1\n"
     ]
    }
   ],
   "source": [
    "# Total number of John Doe orders on 18th March 2023\n",
    "cursor.execute('''\n",
    "SELECT COUNT(DISTINCT s.Order_id) AS john_doe_orders\n",
    "FROM SALES s\n",
    "JOIN CUSTOMERS c ON s.Customer_id = c.Customer_id\n",
    "WHERE s.Date = '2023-03-18'\n",
    "  AND c.First_name = 'John'\n",
    "  AND c.Last_name = 'Doe'\n",
    "''')\n",
    "john_doe_orders = cursor.fetchone()[0]\n",
    "\n",
    "print(\"John Doe Orders on March 18th:\", john_doe_orders)"
   ]
  },
  {
   "cell_type": "code",
   "execution_count": 53,
   "id": "4b2cf0ba-70e3-490e-9b14-1139b7ae69ad",
   "metadata": {},
   "outputs": [
    {
     "name": "stdout",
     "output_type": "stream",
     "text": [
      "January Customers: 1 Average Spend: 300.0\n"
     ]
    }
   ],
   "source": [
    "# Total number of customers who purchased in January 2023 and average spend per customer\n",
    "cursor.execute('''\n",
    "SELECT COUNT(DISTINCT Customer_id) AS total_customers, AVG(total_spend) AS avg_spend_per_customer\n",
    "FROM (\n",
    "  SELECT Customer_id, SUM(Revenue) AS total_spend\n",
    "  FROM SALES\n",
    "  WHERE Date BETWEEN '2023-01-01' AND '2023-01-31'\n",
    "  GROUP BY Customer_id\n",
    ") AS customer_totals;\n",
    "''')\n",
    "january_customers = cursor.fetchone()\n",
    "print(\"January Customers:\", january_customers[0], \"Average Spend:\", january_customers[1])"
   ]
  },
  {
   "cell_type": "code",
   "execution_count": 55,
   "id": "a6ebe0ee-46b7-4c60-8742-ca4d7f2c2427",
   "metadata": {},
   "outputs": [
    {
     "name": "stdout",
     "output_type": "stream",
     "text": [
      "Low Revenue Departments: []\n"
     ]
    }
   ],
   "source": [
    "# Departments that generated less than $600 in 2022\n",
    "cursor.execute('''\n",
    "SELECT i.department, SUM(s.Revenue) AS total_revenue\n",
    "FROM SALES s\n",
    "JOIN ITEMS i ON s.Item_id = i.Item_id\n",
    "WHERE strftime('%Y', s.Date) = '2022'\n",
    "GROUP BY i.department\n",
    "HAVING SUM(s.Revenue) < 600;\n",
    "''')\n",
    "low_revenue_departments = cursor.fetchall()\n",
    "\n",
    "print(\"Low Revenue Departments:\", low_revenue_departments)"
   ]
  },
  {
   "cell_type": "code",
   "execution_count": 57,
   "id": "a8ef854d-0789-41b3-9081-ed6d47cbefb9",
   "metadata": {},
   "outputs": [
    {
     "name": "stdout",
     "output_type": "stream",
     "text": [
      "Revenue Range: (300.0, 100.0)\n"
     ]
    }
   ],
   "source": [
    "# Most and least revenue generated by an order\n",
    "cursor.execute('''\n",
    "SELECT MAX(Revenue) AS max_revenue, MIN(Revenue) AS min_revenue\n",
    "FROM SALES;\n",
    "''')\n",
    "revenue_range = cursor.fetchone()\n",
    "print(\"Revenue Range:\", revenue_range)"
   ]
  },
  {
   "cell_type": "code",
   "execution_count": 59,
   "id": "a3bd14ad-638b-4a1e-a5e5-92a9dfcd2ce7",
   "metadata": {},
   "outputs": [
    {
     "name": "stdout",
     "output_type": "stream",
     "text": [
      "Most Lucrative Order Details: [('2023-01-15', 3, 3, 1, 3, 300.0)]\n"
     ]
    }
   ],
   "source": [
    "# Orders from the most lucrative order\n",
    "cursor.execute('''\n",
    "SELECT *\n",
    "FROM SALES\n",
    "WHERE Revenue = (SELECT MAX(Revenue) FROM SALES);\n",
    "''')\n",
    "most_lucrative_order = cursor.fetchall()\n",
    "\n",
    "print(\"Most Lucrative Order Details:\", most_lucrative_order)\n"
   ]
  },
  {
   "cell_type": "code",
   "execution_count": null,
   "id": "4b961143-fde5-458a-b21c-a180ad8272b9",
   "metadata": {},
   "outputs": [],
   "source": []
  },
  {
   "cell_type": "code",
   "execution_count": null,
   "id": "9346f335-863a-4653-9616-040670bc0f28",
   "metadata": {},
   "outputs": [],
   "source": []
  }
 ],
 "metadata": {
  "kernelspec": {
   "display_name": "Python 3 (ipykernel)",
   "language": "python",
   "name": "python3"
  },
  "language_info": {
   "codemirror_mode": {
    "name": "ipython",
    "version": 3
   },
   "file_extension": ".py",
   "mimetype": "text/x-python",
   "name": "python",
   "nbconvert_exporter": "python",
   "pygments_lexer": "ipython3",
   "version": "3.12.4"
  }
 },
 "nbformat": 4,
 "nbformat_minor": 5
}
